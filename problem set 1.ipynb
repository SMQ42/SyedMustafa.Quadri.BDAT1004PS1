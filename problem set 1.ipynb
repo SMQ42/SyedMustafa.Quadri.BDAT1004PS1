{
 "cells": [
  {
   "cell_type": "markdown",
   "id": "523529d1",
   "metadata": {},
   "source": [
    "# Question 1"
   ]
  },
  {
   "cell_type": "markdown",
   "id": "95739309",
   "metadata": {},
   "source": [
    " 5 is Integer\n",
    " \n",
    " 5.0 is float\n",
    " \n",
    " '5' is integer\n",
    " \n",
    " 5*2 is integer\n",
    " \n",
    " '5' *2 is integer\n",
    "   \n",
    " '5' + '2' is string\n",
    " \n",
    " 5 / 2 is float\n",
    " \n",
    " 5 % 2 is integer\n",
    " \n",
    " {5,2,1} is array\n",
    " \n",
    " 5 == 3 is boolean \n",
    " \n",
    " pi ( the number) is double"
   ]
  },
  {
   "cell_type": "markdown",
   "id": "81100b38",
   "metadata": {},
   "source": [
    "# Question 2"
   ]
  },
  {
   "cell_type": "markdown",
   "id": "cd3c023a",
   "metadata": {},
   "source": [
    "## a"
   ]
  },
  {
   "cell_type": "code",
   "execution_count": 11,
   "id": "aa8e6ccd",
   "metadata": {},
   "outputs": [
    {
     "name": "stdout",
     "output_type": "stream",
     "text": [
      "34\r\n"
     ]
    }
   ],
   "source": [
    "\n",
    "\n",
    "string s1 = \"Supercalifragilisticexpialidocious\";\n",
    "\n",
    "int l= s1.Length;\n",
    "\n",
    "Console.WriteLine(l); "
   ]
  },
  {
   "cell_type": "markdown",
   "id": "d1760178",
   "metadata": {},
   "source": [
    "## b"
   ]
  },
  {
   "cell_type": "code",
   "execution_count": 4,
   "id": "3a143dec",
   "metadata": {},
   "outputs": [
    {
     "name": "stdout",
     "output_type": "stream",
     "text": [
      "the string has ice\r\n"
     ]
    }
   ],
   "source": [
    "for (int i=0; i < l ; i++)\n",
    "{\n",
    "    string s2 = s1.Substring (i,3);\n",
    "    if(s2 == \"ice\")\n",
    "    {\n",
    "        Console.WriteLine(\"the string has ice\");\n",
    "        break;\n",
    "    }\n",
    "\n",
    "\n",
    "\n",
    "}"
   ]
  },
  {
   "cell_type": "markdown",
   "id": "f8646b06",
   "metadata": {},
   "source": [
    "## c"
   ]
  },
  {
   "cell_type": "code",
   "execution_count": 5,
   "id": "907be377",
   "metadata": {},
   "outputs": [
    {
     "name": "stdout",
     "output_type": "stream",
     "text": [
      "the Supercalifragilisticexpialidocious and Bababadalgharaghtakamminarronnkonn is longest\r\n"
     ]
    }
   ],
   "source": [
    "string s1 = \"Supercalifragilisticexpialidocious\";\n",
    "string s3 = \"Honorificabilitudinitatibus\";\n",
    "string s4 = \"Bababadalgharaghtakamminarronnkonn\";\n",
    "    \n",
    "int l2=s3.Length;\n",
    "int l3=s4.Length;\n",
    "\n",
    "if((l > l2) & (l>l3) )\n",
    "{\n",
    "    Console.WriteLine($\"the {s1} is longest\");\n",
    "}\n",
    "\n",
    "else if ((l2>l)& (l2 > l3))\n",
    "{\n",
    "     Console.WriteLine($\"the {s3} is longest\");\n",
    "}\n",
    "\n",
    "else if ((l3>l) &(l3 > l2))\n",
    "    \n",
    "{\n",
    "    Console.WriteLine($\"the {s4} is longest\");\n",
    "    \n",
    "}\n",
    "\n",
    "else if((l==l2) & (l>l3))\n",
    "{\n",
    "  Console.WriteLine($\"the {s3} and {s1} is longest\");\n",
    "    \n",
    "}\n",
    "\n",
    "else if((l==l3) & (l>l2))\n",
    "{\n",
    "    Console.WriteLine($\"the {s1} and {s4} is longest\");\n",
    "    \n",
    "}\n",
    "\n",
    "\n",
    "else if((l2==l3) & (l3>l))\n",
    "{\n",
    "    \n",
    "    Console.WriteLine($\"the {s3} and {s4} is longest\");\n",
    "}"
   ]
  },
  {
   "cell_type": "markdown",
   "id": "67883e9e",
   "metadata": {},
   "source": [
    "## d"
   ]
  },
  {
   "cell_type": "code",
   "execution_count": 32,
   "id": "07b52519",
   "metadata": {},
   "outputs": [
    {
     "name": "stdout",
     "output_type": "stream",
     "text": [
      "Bartok\n",
      "Buxtehude\n"
     ]
    }
   ],
   "source": [
    "SortedSet <string> dictionary = new SortedSet<string>();\n",
    "\n",
    "dictionary.Add(\"Berlioz\");\n",
    "dictionary.Add(\"Borodin\");\n",
    "dictionary.Add(\"Brian\");\n",
    "dictionary.Add(\"Brian\");\n",
    "dictionary.Add(\"Bartok\");\n",
    "dictionary.Add(\"Bellini\");\n",
    "dictionary.Add(\"Buxtehude\");\n",
    "dictionary.Add(\"Bernstein\");\n",
    "\n",
    "Console.WriteLine(dictionary.First());\n",
    "Console.WriteLine(dictionary.Last());"
   ]
  },
  {
   "cell_type": "markdown",
   "id": "1326b4be",
   "metadata": {},
   "source": [
    "# Question 3"
   ]
  },
  {
   "cell_type": "code",
   "execution_count": 8,
   "id": "24cb9bed",
   "metadata": {},
   "outputs": [],
   "source": [
    "private static double triangleArea(int a, int b, int c)\n",
    "{\n",
    "     int s5 = (a+b+c) /2;\n",
    "     double area3 = Math.Sqrt(s5*(s5-a)*(s5-b)*(s5-c));\n",
    "     return area3;\n",
    "}"
   ]
  },
  {
   "cell_type": "code",
   "execution_count": 9,
   "id": "5bc5057a",
   "metadata": {},
   "outputs": [
    {
     "data": {
      "text/html": [
       "<div class=\"dni-plaintext\">1.7320508075688772</div>"
      ]
     },
     "execution_count": 9,
     "metadata": {},
     "output_type": "execute_result"
    }
   ],
   "source": [
    "triangleArea(2,2,2)"
   ]
  },
  {
   "cell_type": "markdown",
   "id": "903884a5",
   "metadata": {},
   "source": [
    "# Question 4"
   ]
  },
  {
   "cell_type": "markdown",
   "id": "bfc58824",
   "metadata": {},
   "source": [
    "As instructed in discussion board, the input has been kept as static input."
   ]
  },
  {
   "cell_type": "code",
   "execution_count": 13,
   "id": "8cc44530",
   "metadata": {},
   "outputs": [
    {
     "name": "stdout",
     "output_type": "stream",
     "text": [
      "\n",
      "The Even Elements are: \n",
      "42\n",
      "56\n",
      "32\n",
      "\n",
      "The Odd Elements are: \n",
      "25\n",
      "47\n"
     ]
    }
   ],
   "source": [
    "\n",
    "int x = 5;\n",
    "\n",
    "int[] arr = new int[5];        \n",
    "        arr[0] = 25;\n",
    "        arr[1] = 47;\n",
    "        arr[2] = 42;\n",
    "        arr[3] = 56;\n",
    "        arr[4] = 32;\n",
    "\n",
    "  \n",
    "int y=0, z=0;\n",
    "\n",
    "for(int i=0; i<x; i++)\n",
    "{\n",
    "    \n",
    "    if (arr[i] % 2 == 0)    \n",
    "    {\n",
    "        y++;\n",
    "    }\n",
    "    \n",
    "    else \n",
    "    {\n",
    "        z++;\n",
    "    }\n",
    "}\n",
    "int[] even = new int[y];\n",
    "int[] odd = new int[z];\n",
    "y=0;\n",
    "z=0;\n",
    "foreach (int no in arr)\n",
    "{\n",
    "    if (no % 2 == 0)\n",
    "    {\n",
    "        even[y] = no;\n",
    "        y++;\n",
    "    }\n",
    "    else\n",
    "    {\n",
    "        odd[z] = no;\n",
    "        z++;\n",
    "    }\n",
    "}\n",
    "\n",
    "Console.WriteLine(\"\\nThe Even Elements are: \");\n",
    "foreach (int no in even)\n",
    "{\n",
    "  Console.WriteLine(no);\n",
    "}\n",
    "\n",
    "Console.WriteLine(\"\\nThe Odd Elements are: \");\n",
    "foreach (int no in odd)\n",
    "{\n",
    "  Console.WriteLine(no);\n",
    "}\n"
   ]
  },
  {
   "cell_type": "markdown",
   "id": "274fd968",
   "metadata": {},
   "source": [
    "# Question 5"
   ]
  },
  {
   "cell_type": "markdown",
   "id": "f6c18dd0",
   "metadata": {},
   "source": [
    "## a"
   ]
  },
  {
   "cell_type": "code",
   "execution_count": 19,
   "id": "2fde978d",
   "metadata": {},
   "outputs": [],
   "source": [
    "private static string inside(float x, float y, float x1, float y1, float x2, float y2)\n",
    "{\n",
    "    if (x >= x1 && x <= x2 && y >= y1 && y <= y2)  \n",
    "    {\n",
    "        return (\"True\");\n",
    "    }\n",
    "    else \n",
    "    {\n",
    "    \n",
    "    return (\"False\");\n",
    "    \n",
    "    }\n",
    "\n",
    "}"
   ]
  },
  {
   "cell_type": "code",
   "execution_count": 18,
   "id": "52e6773f",
   "metadata": {},
   "outputs": [
    {
     "data": {
      "text/plain": [
       "True"
      ]
     },
     "execution_count": 18,
     "metadata": {},
     "output_type": "execute_result"
    }
   ],
   "source": [
    "inside(1,1,0,0,2,3)"
   ]
  },
  {
   "cell_type": "code",
   "execution_count": 33,
   "id": "f6800f4f",
   "metadata": {},
   "outputs": [
    {
     "data": {
      "text/plain": [
       "False"
      ]
     },
     "execution_count": 33,
     "metadata": {},
     "output_type": "execute_result"
    }
   ],
   "source": [
    "inside(-1,-1,0,0,2,3)"
   ]
  },
  {
   "cell_type": "markdown",
   "id": "48d66384",
   "metadata": {},
   "source": [
    "## b"
   ]
  },
  {
   "cell_type": "code",
   "execution_count": 34,
   "id": "d19566f7",
   "metadata": {},
   "outputs": [
    {
     "name": "stdout",
     "output_type": "stream",
     "text": [
      "the point does not lies in both rectangle\r\n"
     ]
    }
   ],
   "source": [
    "if (inside(1,1,0.3,0.5,1.1,0.7) == inside(1,1,0.5,0.2,1.1,2) ){\n",
    "\n",
    "    Console.WriteLine(\"the point lies in both rectangle\");\n",
    "    \n",
    "        }\n",
    "else {\n",
    "\n",
    " Console.WriteLine(\"the point does not lies in both rectangle\");\n",
    "    \n",
    "}"
   ]
  },
  {
   "cell_type": "code",
   "execution_count": null,
   "id": "98b6e31e",
   "metadata": {},
   "outputs": [],
   "source": []
  },
  {
   "cell_type": "code",
   "execution_count": null,
   "id": "374d2f1e",
   "metadata": {},
   "outputs": [],
   "source": []
  }
 ],
 "metadata": {
  "kernelspec": {
   "display_name": ".NET (C#)",
   "language": "C#",
   "name": ".net-csharp"
  },
  "language_info": {
   "file_extension": ".cs",
   "mimetype": "text/x-csharp",
   "name": "C#",
   "pygments_lexer": "csharp",
   "version": "8.0"
  }
 },
 "nbformat": 4,
 "nbformat_minor": 5
}
