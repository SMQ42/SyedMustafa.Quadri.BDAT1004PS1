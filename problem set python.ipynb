{
 "cells": [
  {
   "cell_type": "markdown",
   "id": "496e28b4",
   "metadata": {},
   "source": [
    "# question 6"
   ]
  },
  {
   "cell_type": "code",
   "execution_count": 82,
   "id": "ec2dfd81",
   "metadata": {},
   "outputs": [],
   "source": [
    "def pig(word):\n",
    "    vowel = ['a','e','i','o','u']\n",
    "    finalWord = ''\n",
    "    x = word\n",
    "    if word[:1].lower() in vowel:\n",
    "        \n",
    "        finalWord = word +'way'\n",
    "        \n",
    "    else:\n",
    "        \n",
    "        finalWord = word[1:]+word[:1]+'ay'\n",
    "        \n",
    "    return finalWord.lower() #returning only lowercase "
   ]
  },
  {
   "cell_type": "code",
   "execution_count": 83,
   "id": "a5a75bfe",
   "metadata": {},
   "outputs": [
    {
     "data": {
      "text/plain": [
       "'appyhay'"
      ]
     },
     "execution_count": 83,
     "metadata": {},
     "output_type": "execute_result"
    }
   ],
   "source": [
    "pig('happy')\n"
   ]
  },
  {
   "cell_type": "code",
   "execution_count": 86,
   "id": "5fcec52e",
   "metadata": {},
   "outputs": [
    {
     "data": {
      "text/plain": [
       "'enterway'"
      ]
     },
     "execution_count": 86,
     "metadata": {},
     "output_type": "execute_result"
    }
   ],
   "source": [
    "pig('Enter')"
   ]
  },
  {
   "cell_type": "markdown",
   "id": "06f4a12c",
   "metadata": {},
   "source": [
    "# question 7"
   ]
  },
  {
   "cell_type": "code",
   "execution_count": 21,
   "id": "ba12f2a3",
   "metadata": {},
   "outputs": [],
   "source": [
    "def bldcount(filename):\n",
    "    infile = open(filename)\n",
    "    x= infile.read()\n",
    "    d=x.split()\n",
    "    i= 0\n",
    "    j= 0\n",
    "    k= 0\n",
    "    l= 0\n",
    "    m= 0\n",
    "    n=0\n",
    "\n",
    "    for char in d:\n",
    "        if(char == 'A'):\n",
    "            i+=1\n",
    "        elif (char == 'B'):\n",
    "            j+=1\n",
    "        elif (char == 'AB'):\n",
    "            k+=1\n",
    "        elif (char == 'O'):\n",
    "            l+=1\n",
    "        elif (char == 'OO'):\n",
    "            m+=1\n",
    "    if m == 1:   #converting 1 to one and 0 to no\n",
    "        m = 'one'\n",
    "    elif m == 0:\n",
    "        m = 'no'\n",
    "    if i == 1:\n",
    "        i = 'one'\n",
    "    elif i == 0:\n",
    "        i = 'no'\n",
    "    if j == 0:\n",
    "        j = 'no'\n",
    "    elif j == 1:\n",
    "        j = 'one'\n",
    "    if k == 0:\n",
    "        k = 'no'\n",
    "    elif k == 1:\n",
    "        k = 'one'\n",
    "    if l == 0:\n",
    "        l = 'no'\n",
    "    elif l == 1:\n",
    "        l = 'one'\n",
    "    print('There are ',i,' patients of blood type A\\n','There are ',j,' patients of blood type B\\n','There are ',k,' patients of blood type AB\\n','There are ',l,' patients of blood type O\\n','There are ',m,' patients of blood type OO ')"
   ]
  },
  {
   "cell_type": "code",
   "execution_count": 15,
   "id": "e03a5b2e",
   "metadata": {},
   "outputs": [
    {
     "name": "stdout",
     "output_type": "stream",
     "text": [
      "There are  15  patients of blood type A\n",
      " There are  one  patients of blood type B\n",
      " There are  13  patients of blood type AB\n",
      " There are  15  patients of blood type O\n",
      " There are  no  patients of blood type OO \n"
     ]
    }
   ],
   "source": [
    "bldcount('bloodtype1.txt')"
   ]
  },
  {
   "cell_type": "code",
   "execution_count": 3,
   "id": "5e147795",
   "metadata": {},
   "outputs": [],
   "source": []
  },
  {
   "cell_type": "markdown",
   "id": "64aff740",
   "metadata": {},
   "source": [
    "# question 8"
   ]
  },
  {
   "cell_type": "code",
   "execution_count": 6,
   "id": "1953d7e6",
   "metadata": {},
   "outputs": [],
   "source": [
    "def curconv(curry,value):\n",
    "    infile = open('currencies.txt')\n",
    "    y = infile.read()\n",
    "    l = '\\t'.join(y.split('\\n')).split('\\t') #reading the file and splitting \n",
    "    currcon = {}\n",
    "    p=0\n",
    "    q=1\n",
    "    for i in range(0,int(len(l)/3)):\n",
    "        currcon[l[p]]=l[q]\n",
    "        p+=3\n",
    "        q+=3\n",
    "    return float(currcon[curry])*value\n"
   ]
  },
  {
   "cell_type": "code",
   "execution_count": 7,
   "id": "14f83395",
   "metadata": {},
   "outputs": [
    {
     "data": {
      "text/plain": [
       "122.96544"
      ]
     },
     "execution_count": 7,
     "metadata": {},
     "output_type": "execute_result"
    }
   ],
   "source": [
    "curconv('EUR',100)"
   ]
  },
  {
   "cell_type": "code",
   "execution_count": 8,
   "id": "31e4f1a1",
   "metadata": {},
   "outputs": [
    {
     "data": {
      "text/plain": [
       "1.241401"
      ]
     },
     "execution_count": 8,
     "metadata": {},
     "output_type": "execute_result"
    }
   ],
   "source": [
    "curconv('JPY',100)"
   ]
  },
  {
   "cell_type": "markdown",
   "id": "ff5ee368",
   "metadata": {},
   "source": [
    "# question 9"
   ]
  },
  {
   "cell_type": "markdown",
   "id": "8324430b",
   "metadata": {},
   "source": [
    "trying to add incompatible variables - TypeError\n",
    "\n",
    "referring to the 12th item of alist that has only 10 items - IndexError\n",
    "\n",
    "using a value that is out of range for a function input- ValueError\n",
    "\n",
    "using an undeclared variable, such as print(x) - NameError\n",
    "\n",
    "trying to open a file that does not exist such as mistyping the file name - IOError"
   ]
  },
  {
   "cell_type": "markdown",
   "id": "9f8eda1e",
   "metadata": {},
   "source": [
    "# question 10"
   ]
  },
  {
   "cell_type": "code",
   "execution_count": 9,
   "id": "847801a3",
   "metadata": {},
   "outputs": [],
   "source": [
    "def frequencies(text):\n",
    "    words = \"abcdefghijklmnopqrstuvwxyz\" \n",
    "    l = []\n",
    "    for i in words:\n",
    "        l.append(text.count(i))\n",
    "    return l"
   ]
  },
  {
   "cell_type": "code",
   "execution_count": 10,
   "id": "9b153505",
   "metadata": {},
   "outputs": [
    {
     "data": {
      "text/plain": [
       "[1, 1, 1, 3, 5, 1, 1, 2, 1, 0, 1, 0, 1, 2, 4, 0, 1, 2, 0, 2, 1, 0, 1, 1, 0, 0]"
      ]
     },
     "execution_count": 10,
     "metadata": {},
     "output_type": "execute_result"
    }
   ],
   "source": [
    "frequencies('The quick red fox got bored and went home.')"
   ]
  },
  {
   "cell_type": "code",
   "execution_count": 11,
   "id": "11cbbbb5",
   "metadata": {},
   "outputs": [
    {
     "data": {
      "text/plain": [
       "[1, 0, 0, 0, 1, 0, 0, 0, 0, 0, 0, 1, 0, 0, 0, 2, 0, 0, 0, 0, 0, 0, 0, 0, 0, 0]"
      ]
     },
     "execution_count": 11,
     "metadata": {},
     "output_type": "execute_result"
    }
   ],
   "source": [
    "frequencies('apple')"
   ]
  },
  {
   "cell_type": "code",
   "execution_count": null,
   "id": "b69f75a8",
   "metadata": {},
   "outputs": [],
   "source": []
  }
 ],
 "metadata": {
  "kernelspec": {
   "display_name": "Python 3 (ipykernel)",
   "language": "python",
   "name": "python3"
  },
  "language_info": {
   "codemirror_mode": {
    "name": "ipython",
    "version": 3
   },
   "file_extension": ".py",
   "mimetype": "text/x-python",
   "name": "python",
   "nbconvert_exporter": "python",
   "pygments_lexer": "ipython3",
   "version": "3.9.12"
  }
 },
 "nbformat": 4,
 "nbformat_minor": 5
}
